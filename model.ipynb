{
 "cells": [
  {
   "cell_type": "markdown",
   "metadata": {},
   "source": [
    "### Downloading the data"
   ]
  },
  {
   "cell_type": "code",
   "execution_count": 50,
   "metadata": {},
   "outputs": [],
   "source": [
    "from main import main\n",
    "key = '<replace with your key>' # this is the key for the weather data API"
   ]
  },
  {
   "cell_type": "code",
   "execution_count": 51,
   "metadata": {},
   "outputs": [],
   "source": [
    "# uncomment this line on your own risk\n",
    "# it will take ~15-20 minutes to download the data and to do some cleaning\n",
    "#main(key)"
   ]
  },
  {
   "cell_type": "code",
   "execution_count": 52,
   "metadata": {},
   "outputs": [],
   "source": [
    "from configs import merged_cycle_data_file\n",
    "import pandas as pd\n",
    "from sklearn.model_selection import train_test_split"
   ]
  },
  {
   "cell_type": "markdown",
   "metadata": {},
   "source": [
    "### Load the weather & holiday data"
   ]
  },
  {
   "cell_type": "code",
   "execution_count": 53,
   "metadata": {},
   "outputs": [
    {
     "data": {
      "text/html": [
       "<div>\n",
       "<style scoped>\n",
       "    .dataframe tbody tr th:only-of-type {\n",
       "        vertical-align: middle;\n",
       "    }\n",
       "\n",
       "    .dataframe tbody tr th {\n",
       "        vertical-align: top;\n",
       "    }\n",
       "\n",
       "    .dataframe thead th {\n",
       "        text-align: right;\n",
       "    }\n",
       "</style>\n",
       "<table border=\"1\" class=\"dataframe\">\n",
       "  <thead>\n",
       "    <tr style=\"text-align: right;\">\n",
       "      <th></th>\n",
       "      <th>temperature</th>\n",
       "      <th>feelsLike</th>\n",
       "      <th>wind</th>\n",
       "      <th>weatherCode</th>\n",
       "    </tr>\n",
       "    <tr>\n",
       "      <th>timestamp</th>\n",
       "      <th></th>\n",
       "      <th></th>\n",
       "      <th></th>\n",
       "      <th></th>\n",
       "    </tr>\n",
       "  </thead>\n",
       "  <tbody>\n",
       "    <tr>\n",
       "      <th>2015-01-01 00:00:00</th>\n",
       "      <td>3</td>\n",
       "      <td>-2</td>\n",
       "      <td>21</td>\n",
       "      <td>116</td>\n",
       "    </tr>\n",
       "    <tr>\n",
       "      <th>2015-01-01 01:00:00</th>\n",
       "      <td>3</td>\n",
       "      <td>-2</td>\n",
       "      <td>21</td>\n",
       "      <td>116</td>\n",
       "    </tr>\n",
       "    <tr>\n",
       "      <th>2015-01-01 02:00:00</th>\n",
       "      <td>3</td>\n",
       "      <td>-1</td>\n",
       "      <td>20</td>\n",
       "      <td>116</td>\n",
       "    </tr>\n",
       "    <tr>\n",
       "      <th>2015-01-01 03:00:00</th>\n",
       "      <td>3</td>\n",
       "      <td>-1</td>\n",
       "      <td>20</td>\n",
       "      <td>116</td>\n",
       "    </tr>\n",
       "    <tr>\n",
       "      <th>2015-01-01 04:00:00</th>\n",
       "      <td>4</td>\n",
       "      <td>0</td>\n",
       "      <td>20</td>\n",
       "      <td>116</td>\n",
       "    </tr>\n",
       "  </tbody>\n",
       "</table>\n",
       "</div>"
      ],
      "text/plain": [
       "                     temperature  feelsLike  wind  weatherCode\n",
       "timestamp                                                     \n",
       "2015-01-01 00:00:00            3         -2    21          116\n",
       "2015-01-01 01:00:00            3         -2    21          116\n",
       "2015-01-01 02:00:00            3         -1    20          116\n",
       "2015-01-01 03:00:00            3         -1    20          116\n",
       "2015-01-01 04:00:00            4          0    20          116"
      ]
     },
     "execution_count": 53,
     "metadata": {},
     "output_type": "execute_result"
    }
   ],
   "source": [
    "from configs import weather_data_csv\n",
    "\n",
    "holidays = 'holidays.csv'\n",
    "hol_df = pd.read_csv(holidays, index_col='date', parse_dates=['date'])\n",
    "weather_df = pd.read_csv(weather_data_csv, index_col='timestamp', parse_dates=['timestamp'])\n",
    "weather_df.head()"
   ]
  },
  {
   "cell_type": "code",
   "execution_count": 54,
   "metadata": {},
   "outputs": [],
   "source": [
    "# get a set of the holiday dates\n",
    "hol_set= set(hol_df.index.map(lambda x: x.date()))"
   ]
  },
  {
   "cell_type": "markdown",
   "metadata": {},
   "source": [
    "### Load the merged csv file by reading it in chunks\n",
    "\n",
    "# Warning:\n",
    "The next cell takes a lot of time (on one machine it took 3h 40 mins) so skip running this cell."
   ]
  },
  {
   "cell_type": "code",
   "execution_count": 87,
   "metadata": {},
   "outputs": [
    {
     "name": "stdout",
     "output_type": "stream",
     "text": [
      "1. Reading rows 0:1000000. Completed cleaning & merging in 97.826 seconds.\n",
      "2. Reading rows 1000000:2000000. Completed cleaning & merging in 100.976 seconds.\n",
      "3. Reading rows 2000000:3000000. Completed cleaning & merging in 95.744 seconds.\n",
      "4. Reading rows 3000000:4000000. Completed cleaning & merging in 94.829 seconds.\n",
      "5. Reading rows 4000000:5000000. Completed cleaning & merging in 96.906 seconds.\n",
      "6. Reading rows 5000000:6000000. Completed cleaning & merging in 95.140 seconds.\n",
      "7. Reading rows 6000000:7000000. Completed cleaning & merging in 95.473 seconds.\n",
      "8. Reading rows 7000000:8000000. Completed cleaning & merging in 103.139 seconds.\n",
      "9. Reading rows 8000000:9000000. Completed cleaning & merging in 104.653 seconds.\n",
      "10. Reading rows 9000000:10000000. Completed cleaning & merging in 95.514 seconds.\n",
      "11. Reading rows 10000000:11000000. Completed cleaning & merging in 97.521 seconds.\n",
      "12. Reading rows 11000000:12000000. Completed cleaning & merging in 103.394 seconds.\n",
      "13. Reading rows 12000000:13000000. Completed cleaning & merging in 96.022 seconds.\n",
      "14. Reading rows 13000000:14000000. Completed cleaning & merging in 96.060 seconds.\n",
      "15. Reading rows 14000000:15000000. Completed cleaning & merging in 99.951 seconds.\n",
      "16. Reading rows 15000000:16000000. Completed cleaning & merging in 99.816 seconds.\n",
      "17. Reading rows 16000000:17000000. Completed cleaning & merging in 99.460 seconds.\n",
      "18. Reading rows 17000000:18000000. Completed cleaning & merging in 99.843 seconds.\n",
      "19. Reading rows 18000000:19000000. Completed cleaning & merging in 100.307 seconds.\n",
      "20. Reading rows 19000000:20000000. Completed cleaning & merging in 97.710 seconds.\n",
      "21. Reading rows 20000000:21000000. Completed cleaning & merging in 97.535 seconds.\n",
      "22. Reading rows 21000000:22000000. Completed cleaning & merging in 97.329 seconds.\n",
      "23. Reading rows 22000000:23000000. Completed cleaning & merging in 99.046 seconds.\n",
      "24. Reading rows 23000000:24000000. Completed cleaning & merging in 99.777 seconds.\n",
      "25. Reading rows 24000000:25000000. Completed cleaning & merging in 97.951 seconds.\n",
      "26. Reading rows 25000000:26000000. Completed cleaning & merging in 104.754 seconds.\n",
      "27. Reading rows 26000000:27000000. Completed cleaning & merging in 100.634 seconds.\n",
      "28. Reading rows 27000000:28000000. Completed cleaning & merging in 101.489 seconds.\n",
      "29. Reading rows 28000000:29000000. Completed cleaning & merging in 105.413 seconds.\n",
      "30. Reading rows 29000000:30000000. Completed cleaning & merging in 101.980 seconds.\n",
      "31. Reading rows 30000000:31000000. Completed cleaning & merging in 97.878 seconds.\n",
      "32. Reading rows 31000000:32000000. Completed cleaning & merging in 96.939 seconds.\n",
      "33. Reading rows 32000000:33000000. Completed cleaning & merging in 96.043 seconds.\n",
      "34. Reading rows 33000000:34000000. Completed cleaning & merging in 99.180 seconds.\n",
      "35. Reading rows 34000000:35000000. Completed cleaning & merging in 95.448 seconds.\n",
      "36. Reading rows 35000000:36000000. Completed cleaning & merging in 97.326 seconds.\n",
      "37. Reading rows 36000000:37000000. Completed cleaning & merging in 97.637 seconds.\n",
      "38. Reading rows 37000000:38000000. Completed cleaning & merging in 98.190 seconds.\n",
      "39. Reading rows 38000000:39000000. Completed cleaning & merging in 78.792 seconds.\n",
      "40. Reading rows 39000000:40000000. Completed cleaning & merging in 53.697 seconds.\n",
      "41. Reading rows 40000000:41000000. Completed cleaning & merging in 79.023 seconds.\n",
      "42. Reading rows 41000000:42000000. Completed cleaning & merging in 100.242 seconds.\n",
      "43. Reading rows 42000000:43000000. Completed cleaning & merging in 95.997 seconds.\n",
      "44. Reading rows 43000000:44000000. Completed cleaning & merging in 96.595 seconds.\n",
      "45. Reading rows 44000000:45000000. Completed cleaning & merging in 96.007 seconds.\n",
      "46. Reading rows 45000000:46000000. Completed cleaning & merging in 96.345 seconds.\n",
      "47. Reading rows 46000000:47000000. Completed cleaning & merging in 96.103 seconds.\n",
      "48. Reading rows 47000000:48000000. Completed cleaning & merging in 54.170 seconds.\n",
      "CPU times: user 3h 41min 56s, sys: 19.7 s, total: 3h 42min 15s\n",
      "Wall time: 3h 40min 30s\n"
     ]
    }
   ],
   "source": [
    "%%time\n",
    "from datetime import datetime\n",
    "import time\n",
    "chunk_size = 1000000\n",
    "date_mapper = lambda x: pd.to_datetime(datetime(year=x.year, month=x.month, day=x.day, hour=x.hour))\n",
    "\n",
    "bike_share_df = pd.DataFrame()\n",
    "iter_ = pd.read_csv(merged_cycle_data_file, chunksize=chunk_size, iterator=True,\n",
    "        index_col='Rental Id',\n",
    "        parse_dates=['End Date', 'Start Date'])\n",
    "\n",
    "r_start = time.time()\n",
    "for i, df in enumerate(iter_):\n",
    "    r_end = time.time()\n",
    "    print(f'{i+1}. Read rows {chunk_size*i}:{chunk_size*(i+1)} in {r_end-r.start:.3f}. ', end='')\n",
    "\n",
    "    start = time.time()\n",
    "    old_size = len(df)\n",
    "    df = df.dropna()\n",
    "    # print(f'Old size: {old_size}; New size: {len(df)}')\n",
    "    # leave only entries that are shorter than 2 hours and have valid duration\n",
    "#     df = df[(df['Duration'] >= 0) & (df['Duration'] <= 2 * 60 * 60)]\n",
    "    df = df[df['Duration'] >= 0]\n",
    "    \n",
    "    diff = df['End Date'] - df['Start Date'] # compute the difference between the objects\n",
    "    seconds = diff.map(lambda x: x.total_seconds()) # map to seconds\n",
    "    df = df[(df['Duration'] == seconds) & (seconds >= 0)] # check if duration matches the result and if the result is positive\n",
    "    \n",
    "    \n",
    "    # keep only year, month, day, hour information from the start date\n",
    "    df['Start Date'] = df['Start Date'].map(date_mapper)\n",
    "    \n",
    "    share_df = df.groupby('Start Date').agg({'Start Date': 'count'}).rename(columns={'Start Date': 'share_count'})\n",
    "    share_df = share_df.join(weather_df)\n",
    "    share_df = share_df.reset_index()\n",
    "    share_df = share_df.dropna()\n",
    "    \n",
    "    share_df['month'] = share_df['Start Date'].apply(lambda t: t.month)\n",
    "    share_df['weekday'] = share_df['Start Date'].apply(lambda t: t.weekday())\n",
    "    share_df['hour'] = share_df['Start Date'].apply(lambda t: t.hour)\n",
    "    share_df['is_holiday'] = share_df['Start Date'].map(lambda x: x.date() in hol_set).map(lambda x: '1' if x else '0')\n",
    "    # check if start date hits on a weekend\n",
    "    # monday is 0, sunday is 6\n",
    "    share_df['is_weekend'] = share_df['Start Date'].map(lambda x: x.weekday() > 4).map(lambda x: '1' if x else '0')\n",
    "    share_df['weatherCode'] = share_df['weatherCode'].map(lambda x: str(int(x)))\n",
    "    \n",
    "    bike_share_df = bike_share_df.append(share_df)\n",
    "    end = time.time()\n",
    "    print(f'Completed cleaning & merging in {end-start:3.3f} seconds.')\n",
    "    r_start = time.time()\n",
    "\n",
    "print('Finished reading!')\n",
    "bike_share_df = bike_share_df.reset_index().drop(columns=['index']) # fix the index\n",
    "# save the data to a file, so that we can load it faster next time\n",
    "bike_share_df.to_csv('shares-ungrouped.csv')"
   ]
  },
  {
   "cell_type": "code",
   "execution_count": 55,
   "metadata": {},
   "outputs": [],
   "source": [
    "bike_share_df = pd.read_csv('shares-ungrouped.csv', parse_dates=['Start Date']).drop(columns=['Unnamed: 0'])"
   ]
  },
  {
   "cell_type": "code",
   "execution_count": 56,
   "metadata": {},
   "outputs": [
    {
     "data": {
      "text/plain": [
       "(42768, 11)"
      ]
     },
     "execution_count": 56,
     "metadata": {},
     "output_type": "execute_result"
    }
   ],
   "source": [
    "bike_share_df.shape"
   ]
  },
  {
   "cell_type": "code",
   "execution_count": 57,
   "metadata": {},
   "outputs": [
    {
     "name": "stdout",
     "output_type": "stream",
     "text": [
      "<class 'pandas.core.frame.DataFrame'>\n",
      "RangeIndex: 42768 entries, 0 to 42767\n",
      "Data columns (total 11 columns):\n",
      "Start Date     42768 non-null datetime64[ns]\n",
      "share_count    42768 non-null int64\n",
      "temperature    42768 non-null float64\n",
      "feelsLike      42768 non-null float64\n",
      "wind           42768 non-null float64\n",
      "weatherCode    42768 non-null int64\n",
      "month          42768 non-null int64\n",
      "weekday        42768 non-null int64\n",
      "hour           42768 non-null int64\n",
      "is_holiday     42768 non-null int64\n",
      "is_weekend     42768 non-null int64\n",
      "dtypes: datetime64[ns](1), float64(3), int64(7)\n",
      "memory usage: 3.6 MB\n"
     ]
    }
   ],
   "source": [
    "bike_share_df.info()"
   ]
  },
  {
   "cell_type": "code",
   "execution_count": 59,
   "metadata": {},
   "outputs": [
    {
     "data": {
      "text/html": [
       "<div>\n",
       "<style scoped>\n",
       "    .dataframe tbody tr th:only-of-type {\n",
       "        vertical-align: middle;\n",
       "    }\n",
       "\n",
       "    .dataframe tbody tr th {\n",
       "        vertical-align: top;\n",
       "    }\n",
       "\n",
       "    .dataframe thead th {\n",
       "        text-align: right;\n",
       "    }\n",
       "</style>\n",
       "<table border=\"1\" class=\"dataframe\">\n",
       "  <thead>\n",
       "    <tr style=\"text-align: right;\">\n",
       "      <th></th>\n",
       "      <th>Start Date</th>\n",
       "      <th>share_count</th>\n",
       "      <th>temperature</th>\n",
       "      <th>feelsLike</th>\n",
       "      <th>wind</th>\n",
       "      <th>weatherCode</th>\n",
       "      <th>month</th>\n",
       "      <th>weekday</th>\n",
       "      <th>hour</th>\n",
       "      <th>is_holiday</th>\n",
       "      <th>is_weekend</th>\n",
       "    </tr>\n",
       "  </thead>\n",
       "  <tbody>\n",
       "    <tr>\n",
       "      <th>0</th>\n",
       "      <td>2016-01-02 00:00:00</td>\n",
       "      <td>129</td>\n",
       "      <td>8.0</td>\n",
       "      <td>4.0</td>\n",
       "      <td>36.0</td>\n",
       "      <td>122</td>\n",
       "      <td>1</td>\n",
       "      <td>5</td>\n",
       "      <td>0</td>\n",
       "      <td>0</td>\n",
       "      <td>1</td>\n",
       "    </tr>\n",
       "    <tr>\n",
       "      <th>1</th>\n",
       "      <td>2016-01-02 01:00:00</td>\n",
       "      <td>61</td>\n",
       "      <td>8.0</td>\n",
       "      <td>4.0</td>\n",
       "      <td>35.0</td>\n",
       "      <td>122</td>\n",
       "      <td>1</td>\n",
       "      <td>5</td>\n",
       "      <td>1</td>\n",
       "      <td>0</td>\n",
       "      <td>1</td>\n",
       "    </tr>\n",
       "    <tr>\n",
       "      <th>2</th>\n",
       "      <td>2016-01-02 02:00:00</td>\n",
       "      <td>35</td>\n",
       "      <td>9.0</td>\n",
       "      <td>5.0</td>\n",
       "      <td>33.0</td>\n",
       "      <td>122</td>\n",
       "      <td>1</td>\n",
       "      <td>5</td>\n",
       "      <td>2</td>\n",
       "      <td>0</td>\n",
       "      <td>1</td>\n",
       "    </tr>\n",
       "    <tr>\n",
       "      <th>3</th>\n",
       "      <td>2016-01-02 03:00:00</td>\n",
       "      <td>31</td>\n",
       "      <td>9.0</td>\n",
       "      <td>5.0</td>\n",
       "      <td>32.0</td>\n",
       "      <td>122</td>\n",
       "      <td>1</td>\n",
       "      <td>5</td>\n",
       "      <td>3</td>\n",
       "      <td>0</td>\n",
       "      <td>1</td>\n",
       "    </tr>\n",
       "    <tr>\n",
       "      <th>4</th>\n",
       "      <td>2016-01-02 04:00:00</td>\n",
       "      <td>33</td>\n",
       "      <td>9.0</td>\n",
       "      <td>5.0</td>\n",
       "      <td>31.0</td>\n",
       "      <td>122</td>\n",
       "      <td>1</td>\n",
       "      <td>5</td>\n",
       "      <td>4</td>\n",
       "      <td>0</td>\n",
       "      <td>1</td>\n",
       "    </tr>\n",
       "  </tbody>\n",
       "</table>\n",
       "</div>"
      ],
      "text/plain": [
       "           Start Date  share_count  temperature  feelsLike  wind  weatherCode  \\\n",
       "0 2016-01-02 00:00:00          129          8.0        4.0  36.0          122   \n",
       "1 2016-01-02 01:00:00           61          8.0        4.0  35.0          122   \n",
       "2 2016-01-02 02:00:00           35          9.0        5.0  33.0          122   \n",
       "3 2016-01-02 03:00:00           31          9.0        5.0  32.0          122   \n",
       "4 2016-01-02 04:00:00           33          9.0        5.0  31.0          122   \n",
       "\n",
       "   month  weekday  hour  is_holiday  is_weekend  \n",
       "0      1        5     0           0           1  \n",
       "1      1        5     1           0           1  \n",
       "2      1        5     2           0           1  \n",
       "3      1        5     3           0           1  \n",
       "4      1        5     4           0           1  "
      ]
     },
     "execution_count": 59,
     "metadata": {},
     "output_type": "execute_result"
    }
   ],
   "source": [
    "bike_share_df.head()"
   ]
  },
  {
   "cell_type": "code",
   "execution_count": null,
   "metadata": {},
   "outputs": [],
   "source": []
  },
  {
   "cell_type": "code",
   "execution_count": 60,
   "metadata": {},
   "outputs": [
    {
     "data": {
      "text/html": [
       "<div>\n",
       "<style scoped>\n",
       "    .dataframe tbody tr th:only-of-type {\n",
       "        vertical-align: middle;\n",
       "    }\n",
       "\n",
       "    .dataframe tbody tr th {\n",
       "        vertical-align: top;\n",
       "    }\n",
       "\n",
       "    .dataframe thead th {\n",
       "        text-align: right;\n",
       "    }\n",
       "</style>\n",
       "<table border=\"1\" class=\"dataframe\">\n",
       "  <thead>\n",
       "    <tr style=\"text-align: right;\">\n",
       "      <th></th>\n",
       "      <th>Start Date</th>\n",
       "      <th>share_count</th>\n",
       "      <th>temperature</th>\n",
       "      <th>feelsLike</th>\n",
       "      <th>wind</th>\n",
       "      <th>weatherCode</th>\n",
       "      <th>month</th>\n",
       "      <th>weekday</th>\n",
       "      <th>hour</th>\n",
       "      <th>is_holiday</th>\n",
       "      <th>is_weekend</th>\n",
       "    </tr>\n",
       "  </thead>\n",
       "  <tbody>\n",
       "    <tr>\n",
       "      <th>8115</th>\n",
       "      <td>2018-12-07 10:00:00</td>\n",
       "      <td>996</td>\n",
       "      <td>12.0</td>\n",
       "      <td>10.0</td>\n",
       "      <td>27.0</td>\n",
       "      <td>296</td>\n",
       "      <td>12</td>\n",
       "      <td>4</td>\n",
       "      <td>10</td>\n",
       "      <td>0</td>\n",
       "      <td>0</td>\n",
       "    </tr>\n",
       "    <tr>\n",
       "      <th>8959</th>\n",
       "      <td>2018-12-07 10:00:00</td>\n",
       "      <td>292</td>\n",
       "      <td>12.0</td>\n",
       "      <td>10.0</td>\n",
       "      <td>27.0</td>\n",
       "      <td>296</td>\n",
       "      <td>12</td>\n",
       "      <td>4</td>\n",
       "      <td>10</td>\n",
       "      <td>0</td>\n",
       "      <td>0</td>\n",
       "    </tr>\n",
       "  </tbody>\n",
       "</table>\n",
       "</div>"
      ],
      "text/plain": [
       "              Start Date  share_count  temperature  feelsLike  wind  \\\n",
       "8115 2018-12-07 10:00:00          996         12.0       10.0  27.0   \n",
       "8959 2018-12-07 10:00:00          292         12.0       10.0  27.0   \n",
       "\n",
       "      weatherCode  month  weekday  hour  is_holiday  is_weekend  \n",
       "8115          296     12        4    10           0           0  \n",
       "8959          296     12        4    10           0           0  "
      ]
     },
     "execution_count": 60,
     "metadata": {},
     "output_type": "execute_result"
    }
   ],
   "source": [
    "# because of reading in chunks, some hours appear multiple times\n",
    "bike_share_df[bike_share_df['Start Date'] == '2018-12-07 10:00:00']"
   ]
  },
  {
   "cell_type": "code",
   "execution_count": 61,
   "metadata": {},
   "outputs": [],
   "source": [
    "share_total = bike_share_df.groupby('Start Date').agg({'share_count': 'sum'})\n",
    "share_row = bike_share_df.groupby('Start Date').agg(lambda x: x.iloc[0])\n",
    "share_row['share_count'] = share_total['share_count']\n",
    "bike_share_df = share_row.reset_index()\n",
    "bike_share_df.to_csv('shares-grouped.csv', index=False)"
   ]
  },
  {
   "cell_type": "code",
   "execution_count": 62,
   "metadata": {},
   "outputs": [
    {
     "name": "stdout",
     "output_type": "stream",
     "text": [
      "<class 'pandas.core.frame.DataFrame'>\n",
      "RangeIndex: 38757 entries, 0 to 38756\n",
      "Data columns (total 11 columns):\n",
      "Start Date     38757 non-null datetime64[ns]\n",
      "share_count    38757 non-null int64\n",
      "temperature    38757 non-null float64\n",
      "feelsLike      38757 non-null float64\n",
      "wind           38757 non-null float64\n",
      "weatherCode    38757 non-null int64\n",
      "month          38757 non-null int64\n",
      "weekday        38757 non-null int64\n",
      "hour           38757 non-null int64\n",
      "is_holiday     38757 non-null int64\n",
      "is_weekend     38757 non-null int64\n",
      "dtypes: datetime64[ns](1), float64(3), int64(7)\n",
      "memory usage: 3.3 MB\n"
     ]
    }
   ],
   "source": [
    "bike_share_df.info()"
   ]
  },
  {
   "cell_type": "code",
   "execution_count": 63,
   "metadata": {},
   "outputs": [
    {
     "data": {
      "image/png": "[encoded data removed]",
      "text/plain": [
       "<Figure size 1440x1080 with 12 Axes>"
      ]
     },
     "metadata": {
      "needs_background": "light"
     },
     "output_type": "display_data"
    }
   ],
   "source": [
    "%matplotlib inline\n",
    "import matplotlib.pyplot as plt\n",
    "bike_share_df.hist(bins=50, figsize=(20,15))\n",
    "plt.show()"
   ]
  },
  {
   "cell_type": "code",
   "execution_count": 64,
   "metadata": {},
   "outputs": [
    {
     "data": {
      "text/plain": [
       "<matplotlib.axes._subplots.AxesSubplot at 0x7ff64ebfafd0>"
      ]
     },
     "execution_count": 64,
     "metadata": {},
     "output_type": "execute_result"
    },
    {
     "data": {
      "image/png": "[encoded data removed]",
      "text/plain": [
       "<Figure size 432x288 with 1 Axes>"
      ]
     },
     "metadata": {
      "needs_background": "light"
     },
     "output_type": "display_data"
    }
   ],
   "source": [
    "bike_share_df['month'].hist(bins=12)"
   ]
  },
  {
   "cell_type": "code",
   "execution_count": 65,
   "metadata": {},
   "outputs": [
    {
     "data": {
      "text/plain": [
       "113    10191\n",
       "116    10159\n",
       "122     7931\n",
       "119     4893\n",
       "176     1393\n",
       "143     1191\n",
       "353      730\n",
       "266      546\n",
       "296      456\n",
       "248      319\n",
       "302      270\n",
       "200      132\n",
       "263       84\n",
       "299       60\n",
       "317       57\n",
       "356       48\n",
       "338       45\n",
       "332       36\n",
       "308       35\n",
       "293       33\n",
       "389       25\n",
       "230       24\n",
       "326       21\n",
       "371       18\n",
       "227        9\n",
       "386        9\n",
       "329        9\n",
       "323        6\n",
       "362        6\n",
       "359        6\n",
       "320        6\n",
       "335        3\n",
       "368        3\n",
       "305        3\n",
       "Name: weatherCode, dtype: int64"
      ]
     },
     "execution_count": 65,
     "metadata": {},
     "output_type": "execute_result"
    }
   ],
   "source": [
    "bike_share_df['weatherCode'].value_counts()"
   ]
  },
  {
   "cell_type": "code",
   "execution_count": 66,
   "metadata": {},
   "outputs": [
    {
     "data": {
      "text/plain": [
       "<matplotlib.axes._subplots.AxesSubplot at 0x7ff64d91b828>"
      ]
     },
     "execution_count": 66,
     "metadata": {},
     "output_type": "execute_result"
    },
    {
     "data": {
      "image/png": "[encoded data removed]",
      "text/plain": [
       "<Figure size 432x288 with 1 Axes>"
      ]
     },
     "metadata": {
      "needs_background": "light"
     },
     "output_type": "display_data"
    }
   ],
   "source": [
    "bike_share_df['hour'].hist(bins=24)"
   ]
  },
  {
   "cell_type": "code",
   "execution_count": 67,
   "metadata": {},
   "outputs": [
    {
     "data": {
      "text/plain": [
       "<matplotlib.axes._subplots.AxesSubplot at 0x7ff64d8373c8>"
      ]
     },
     "execution_count": 67,
     "metadata": {},
     "output_type": "execute_result"
    },
    {
     "data": {
      "image/png": "[encoded data removed]",
      "text/plain": [
       "<Figure size 432x288 with 1 Axes>"
      ]
     },
     "metadata": {
      "needs_background": "light"
     },
     "output_type": "display_data"
    }
   ],
   "source": [
    "bike_share_df['temperature'].hist(bins=24)"
   ]
  },
  {
   "cell_type": "code",
   "execution_count": 68,
   "metadata": {},
   "outputs": [
    {
     "data": {
      "text/plain": [
       "(5563, 11)"
      ]
     },
     "execution_count": 68,
     "metadata": {},
     "output_type": "execute_result"
    }
   ],
   "source": [
    "bike_share_df[bike_share_df['share_count'] <= 100].shape"
   ]
  },
  {
   "cell_type": "code",
   "execution_count": 69,
   "metadata": {},
   "outputs": [
    {
     "data": {
      "text/plain": [
       "<matplotlib.axes._subplots.AxesSubplot at 0x7ff64e395c88>"
      ]
     },
     "execution_count": 69,
     "metadata": {},
     "output_type": "execute_result"
    },
    {
     "data": {
      "image/png": "[encoded data removed]",
      "text/plain": [
       "<Figure size 1728x1728 with 1 Axes>"
      ]
     },
     "metadata": {
      "needs_background": "light"
     },
     "output_type": "display_data"
    }
   ],
   "source": [
    "bike_share_df['share_count'].hist(bins=2000, figsize=(24,24))"
   ]
  },
  {
   "cell_type": "code",
   "execution_count": null,
   "metadata": {},
   "outputs": [],
   "source": []
  },
  {
   "cell_type": "code",
   "execution_count": null,
   "metadata": {},
   "outputs": [],
   "source": []
  },
  {
   "cell_type": "code",
   "execution_count": 70,
   "metadata": {},
   "outputs": [
    {
     "data": {
      "text/plain": [
       "array([[0, 0, 0, ..., 0, 0, 0],\n",
       "       [0, 0, 0, ..., 0, 0, 0],\n",
       "       [0, 0, 0, ..., 0, 0, 0],\n",
       "       ...,\n",
       "       [0, 1, 0, ..., 0, 0, 0],\n",
       "       [0, 1, 0, ..., 0, 0, 0],\n",
       "       [0, 0, 1, ..., 0, 0, 0]])"
      ]
     },
     "execution_count": 70,
     "metadata": {},
     "output_type": "execute_result"
    }
   ],
   "source": [
    "# LabelBinarizer can apply the transformation from text categories\n",
    "# to integer categories, then from integer categories to one-hot vectors\n",
    "# basically, it combines a label encoder with one-hot encoder\n",
    "from sklearn.preprocessing import LabelBinarizer\n",
    "encoder = LabelBinarizer()\n",
    "holiday_cat = bike_share_df['weatherCode']\n",
    "holiday_cat_1hot = encoder.fit_transform(holiday_cat.to_numpy())\n",
    "holiday_cat_1hot"
   ]
  },
  {
   "cell_type": "code",
   "execution_count": null,
   "metadata": {},
   "outputs": [],
   "source": []
  }
 ],
 "metadata": {
  "kernelspec": {
   "display_name": "Python 3",
   "language": "python",
   "name": "python3"
  },
  "language_info": {
   "codemirror_mode": {
    "name": "ipython",
    "version": 3
   },
   "file_extension": ".py",
   "mimetype": "text/x-python",
   "name": "python",
   "nbconvert_exporter": "python",
   "pygments_lexer": "ipython3",
   "version": "3.7.3"
  }
 },
 "nbformat": 4,
 "nbformat_minor": 2
}
